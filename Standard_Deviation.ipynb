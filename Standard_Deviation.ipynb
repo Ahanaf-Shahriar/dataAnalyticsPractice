{
  "nbformat": 4,
  "nbformat_minor": 0,
  "metadata": {
    "colab": {
      "provenance": []
    },
    "kernelspec": {
      "name": "python3",
      "display_name": "Python 3"
    },
    "language_info": {
      "name": "python"
    }
  },
  "cells": [
    {
      "cell_type": "code",
      "execution_count": null,
      "metadata": {
        "colab": {
          "base_uri": "https://localhost:8080/"
        },
        "id": "Ai10VinP7g46",
        "outputId": "bda06609-fd8e-463e-e684-b744157507d7"
      },
      "outputs": [
        {
          "output_type": "stream",
          "name": "stdout",
          "text": [
            "   age  ethnicity  gender                        img_name  \\\n",
            "0    1          2       0  20161219203650636.jpg.chip.jpg   \n",
            "1    1          2       0  20161219222752047.jpg.chip.jpg   \n",
            "2    1          2       0  20161219222832191.jpg.chip.jpg   \n",
            "3    1          2       0  20161220144911423.jpg.chip.jpg   \n",
            "4    1          2       0  20161220144914327.jpg.chip.jpg   \n",
            "\n",
            "                                              pixels  \n",
            "0  129 128 128 126 127 130 133 135 139 142 145 14...  \n",
            "1  164 74 111 168 169 171 175 182 184 188 193 199...  \n",
            "2  67 70 71 70 69 67 70 79 90 103 116 132 145 155...  \n",
            "3  193 197 198 200 199 200 202 203 204 205 208 21...  \n",
            "4  202 205 209 210 209 209 210 211 212 214 218 21...  \n"
          ]
        }
      ],
      "source": [
        "import pandas as pd\n",
        "\n",
        "path_to_file = '/content/drive/MyDrive/age_gender.csv'\n",
        "\n",
        "# Read the CSV file into a pandas DataFrame\n",
        "df = pd.read_csv(path_to_file)\n",
        "\n",
        "\n",
        "\n",
        "print(df.head())"
      ]
    },
    {
      "cell_type": "code",
      "source": [
        "import pandas as pd\n",
        "\n",
        "\n",
        "std_dev = df['age'].std()\n",
        "mean = df['age'].mean()\n",
        "median = df['age'].median()\n",
        "mode = df['age'].median()\n",
        "\n",
        "# Print the mean\n",
        "print(\"Mean:\", mean) \n",
        "\n",
        "print(\"median\",median) \n",
        "print(\"mode\",mode)\n",
        "# Print the standard deviation\n",
        "print(\"Standard Deviation:\", std_dev)"
      ],
      "metadata": {
        "colab": {
          "base_uri": "https://localhost:8080/"
        },
        "id": "_Dx01zPp9uqP",
        "outputId": "4d63fccb-b79c-4f34-d934-7da3cbf642ea"
      },
      "execution_count": null,
      "outputs": [
        {
          "output_type": "stream",
          "name": "stdout",
          "text": [
            "Mean: 33.30090698164944\n",
            "median 29.0\n",
            "mode 29.0\n",
            "Standard Deviation: 19.88570810172171\n"
          ]
        }
      ]
    },
    {
      "cell_type": "code",
      "source": [
        "import pandas as pd\n",
        "from scipy import stats\n",
        "\n",
        "# Calculate the z-score using scipy\n",
        "z_scores = stats.zscore(df['age'])\n",
        "\n",
        "# Print the z-scores\n",
        "print(\"Z-Scores:\", z_scores)"
      ],
      "metadata": {
        "colab": {
          "base_uri": "https://localhost:8080/"
        },
        "id": "G2gS15Ld90zr",
        "outputId": "53864a28-880d-427a-94eb-9a9bafb0a0c7"
      },
      "execution_count": null,
      "outputs": [
        {
          "output_type": "stream",
          "name": "stdout",
          "text": [
            "Z-Scores: 0       -1.624362\n",
            "1       -1.624362\n",
            "2       -1.624362\n",
            "3       -1.624362\n",
            "4       -1.624362\n",
            "           ...   \n",
            "23700    3.303904\n",
            "23701    3.303904\n",
            "23702    3.303904\n",
            "23703    3.303904\n",
            "23704    3.303904\n",
            "Name: age, Length: 23705, dtype: float64\n"
          ]
        }
      ]
    },
    {
      "cell_type": "code",
      "source": [
        "import matplotlib.pyplot as plt\n",
        "\n",
        "plt.hist(df['age'], bins=5)  \n",
        "\n",
        "# Add labels and title\n",
        "plt.xlabel('Age')\n",
        "plt.ylabel('Frequency')\n",
        "plt.title('Histogram of Age')\n",
        "plt.savefig('histogram.png', dpi=300)  # Specify the file name and DPI (optional)\n",
        "\n",
        "# Display the histogram\n",
        "plt.show()"
      ],
      "metadata": {
        "colab": {
          "base_uri": "https://localhost:8080/",
          "height": 472
        },
        "id": "0Qvqp4C4-bqZ",
        "outputId": "2e67e85d-bf52-4655-c83a-ee897a004551"
      },
      "execution_count": null,
      "outputs": [
        {
          "output_type": "display_data",
          "data": {
            "text/plain": [
              "<Figure size 640x480 with 1 Axes>"
            ],
            "image/png": "[encoded data removed]"
          },
          "metadata": {}
        }
      ]
    },
    {
      "cell_type": "code",
      "source": [
        "plt.savefig('histogram.png', dpi=300)  # Specify the file name and DPI (optional)\n"
      ],
      "metadata": {
        "colab": {
          "base_uri": "https://localhost:8080/",
          "height": 34
        },
        "id": "nOIEHwd6E7tB",
        "outputId": "9657bb31-bd9a-4969-a070-1c9db77913b5"
      },
      "execution_count": null,
      "outputs": [
        {
          "output_type": "display_data",
          "data": {
            "text/plain": [
              "<Figure size 640x480 with 0 Axes>"
            ]
          },
          "metadata": {}
        }
      ]
    },
    {
      "cell_type": "code",
      "source": [
        "from google.colab import drive\n",
        "drive.mount('/content/drive')"
      ],
      "metadata": {
        "colab": {
          "base_uri": "https://localhost:8080/"
        },
        "id": "4-BJE1uT8ttJ",
        "outputId": "7821f397-af27-4317-a67c-d89fde516a17"
      },
      "execution_count": null,
      "outputs": [
        {
          "output_type": "stream",
          "name": "stdout",
          "text": [
            "Mounted at /content/drive\n"
          ]
        }
      ]
    },
    {
      "cell_type": "code",
      "source": [
        "import smtplib\n",
        "from email.mime.multipart import MIMEMultipart\n",
        "from email.mime.text import MIMEText\n",
        "from email.mime.image import MIMEImage\n",
        "from email.mime.base import MIMEBase\n",
        "from email import encoders\n",
        "import datetime\n",
        "\n",
        "today = datetime.date.today()\n",
        "\n",
        "# Convert date to string format\n",
        "subject = today.strftime(\"%d-%m-%Y\")\n",
        "now = datetime.datetime.now()\n",
        "\n",
        "# Convert date and time to string format\n",
        "\n",
        "# Email configuration\n",
        "sender_email = 'ahanafshahriar0@gmail.com'\n",
        "sender_password = ''\n",
        "receiver_email = 'almehady@gmail.com'\n",
        "bcc_email = 'ahanafshahriar02@gmail.com'\n",
        "subject =   \"histogram Report for \" + today.strftime(\"%d-%m-%y\") \n",
        "message = '''\n",
        "Dear Sir,\n",
        "\n",
        "Please find the dataset attached.\n",
        "\n",
        "Your sincerely,\n",
        "Ahanaf Shahriar\n",
        "''' + now.strftime(\"%d-%m-%Y %H:%M:%S\")\n",
        "\n",
        "# Create the email message\n",
        "msg = MIMEMultipart()\n",
        "msg['From'] = sender_email\n",
        "msg['To'] = receiver_email\n",
        "msg['Bcc'] = bcc_email\n",
        "msg['Subject'] = subject\n",
        "msg.attach(MIMEText(message, 'plain'))\n",
        "\n",
        "# Attach the dataset file\n",
        "dataset_filename = '/content/sample_data/california_housing_train.csv'\n",
        "with open('histogram.png', 'rb') as file:\n",
        "    image = MIMEImage(file.read(), name='histogram.png')\n",
        "    msg.attach(image)\n",
        "\n",
        "with open(dataset_filename, 'rb') as file:\n",
        "    dataset_part = MIMEBase('application', 'octet-stream')\n",
        "    dataset_part.set_payload(file.read())\n",
        "    encoders.encode_base64(dataset_part)\n",
        "    dataset_part.add_header('Content-Disposition', f'attachment; filename=\"{dataset_filename}\"')\n",
        "    msg.attach(dataset_part)\n",
        "\n",
        "# Connect to the SMTP server and send the email\n",
        "with smtplib.SMTP(host='smtp.gmail.com', port=587) as server:\n",
        "    server.starttls()\n",
        "    server.login(sender_email, sender_password)\n",
        "    server.send_message(msg)\n",
        "\n",
        "print('Email sent successfully!')"
      ],
      "metadata": {
        "colab": {
          "base_uri": "https://localhost:8080/"
        },
        "id": "yD0d-lb_buKL",
        "outputId": "001ae159-a51b-4f89-be25-069198c826b5"
      },
      "execution_count": null,
      "outputs": [
        {
          "output_type": "stream",
          "name": "stdout",
          "text": [
            "Email sent successfully!\n"
          ]
        }
      ]
    }
  ]
}