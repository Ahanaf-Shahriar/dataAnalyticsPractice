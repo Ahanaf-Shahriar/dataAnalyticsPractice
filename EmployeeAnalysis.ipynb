{
  "nbformat": 4,
  "nbformat_minor": 0,
  "metadata": {
    "colab": {
      "provenance": []
    },
    "kernelspec": {
      "name": "python3",
      "display_name": "Python 3"
    },
    "language_info": {
      "name": "python"
    }
  },
  "cells": [
    {
      "cell_type": "code",
      "execution_count": 2,
      "metadata": {
        "id": "Vvy9-LImbz2W"
      },
      "outputs": [],
      "source": [
        "import pandas as pd "
      ]
    },
    {
      "cell_type": "code",
      "source": [
        "df = pd.read_csv('/content/adult.data.csv') \n",
        "#count the number of people in each race\n",
        "race_count = df['race'].value_counts()\n",
        "print(race_count)\n"
      ],
      "metadata": {
        "colab": {
          "base_uri": "https://localhost:8080/"
        },
        "id": "yTtws72UcayH",
        "outputId": "25236361-d905-48cc-d2bd-1bcd77141d4b"
      },
      "execution_count": 4,
      "outputs": [
        {
          "output_type": "stream",
          "name": "stdout",
          "text": [
            "White                 27816\n",
            "Black                  3124\n",
            "Asian-Pac-Islander     1039\n",
            "Amer-Indian-Eskimo      311\n",
            "Other                   271\n",
            "Name: race, dtype: int64\n"
          ]
        }
      ]
    },
    {
      "cell_type": "code",
      "source": [
        "#Average age of men \n",
        "\n",
        "men_age = df[df['sex'] == 'Male']['age']\n",
        "average_age = men_age.mean()\n",
        "\n",
        "print(\"Average Age: \" ,average_age)"
      ],
      "metadata": {
        "colab": {
          "base_uri": "https://localhost:8080/"
        },
        "id": "qLG-AFWic3Vy",
        "outputId": "94b0d53a-6898-4de0-aaaa-a43db550775b"
      },
      "execution_count": 10,
      "outputs": [
        {
          "output_type": "stream",
          "name": "stdout",
          "text": [
            "Average Age:  39.43354749885268\n"
          ]
        }
      ]
    },
    {
      "cell_type": "code",
      "source": [
        "#percentage of people who have a bachelors degree \n",
        "\n",
        "num_bachelor_degree_ = len(df[df['education']=='Bachelors']) \n",
        "total_people = len(df) \n",
        "percentage = (num_bachelor_degree_/total_people)*100\n",
        "\n",
        "print(\"number of bachelor degree holders : \" , num_bachelor_degree_)\n",
        "print(\"total people :\" , total_people)\n",
        "print(percentage , \"%\")\n",
        "\n",
        "\n"
      ],
      "metadata": {
        "colab": {
          "base_uri": "https://localhost:8080/"
        },
        "id": "f7mGOh4UfWre",
        "outputId": "16ff8341-edc6-43a7-825d-41e2b0bff306"
      },
      "execution_count": 18,
      "outputs": [
        {
          "output_type": "stream",
          "name": "stdout",
          "text": [
            "number of bachelor degree holders :  5355\n",
            "total people : 32561\n",
            "16.44605509658794 %\n"
          ]
        }
      ]
    },
    {
      "cell_type": "code",
      "source": [
        "#percentage of people with advanced education (Bachelors, Masters, or Doctorate) make more than 50K\n",
        "\n",
        "advanced_education = df[(df['education'] == 'Bachelors') | (df['education'] == 'Masters') | (df['education'] == 'Doctorate')]\n",
        "high_salary = advanced_education[advanced_education['salary'] == '>50K']\n",
        "percentage = (len(high_salary)/len(advanced_education))*100\n",
        "print(len(advanced_education))\n",
        "print(\"People with advanced education and high salary: \" ,percentage ,\"%\")"
      ],
      "metadata": {
        "colab": {
          "base_uri": "https://localhost:8080/"
        },
        "id": "kOtUPODCj-na",
        "outputId": "b83e87ae-a795-4f59-d0dc-b3d332333883"
      },
      "execution_count": 62,
      "outputs": [
        {
          "output_type": "stream",
          "name": "stdout",
          "text": [
            "7491\n",
            "People with advanced education and high salary:  46.535843011613935 %\n"
          ]
        }
      ]
    },
    {
      "cell_type": "code",
      "source": [
        "df.shape\n",
        "advanced_education.shape"
      ],
      "metadata": {
        "colab": {
          "base_uri": "https://localhost:8080/"
        },
        "id": "tj-zwHZYyAl0",
        "outputId": "a6b8b081-8a70-476e-e7cb-d518d697b852"
      },
      "execution_count": 59,
      "outputs": [
        {
          "output_type": "execute_result",
          "data": {
            "text/plain": [
              "(7491, 15)"
            ]
          },
          "metadata": {},
          "execution_count": 59
        }
      ]
    },
    {
      "cell_type": "code",
      "source": [
        "#percentage of people without advanced education make more than 50K \n",
        "regular_education = total_people - len(advanced_education) \n",
        "high_salary_regular = df[(df['education'] != 'Bachelors') & (df['education'] != 'Masters') & (df['education'] != 'Doctorate') & (df['salary'] == '>50K')]\n",
        "percentage = (len(high_salary_regular) / regular_education) * 100\n",
        "\n",
        "\n",
        "print(\"People with regular education and high salary:\",percentage,\"%\")"
      ],
      "metadata": {
        "colab": {
          "base_uri": "https://localhost:8080/"
        },
        "id": "dS8jlgsVngbu",
        "outputId": "e1565d6b-3469-4a1a-b7e5-795b410541c7"
      },
      "execution_count": 36,
      "outputs": [
        {
          "output_type": "stream",
          "name": "stdout",
          "text": [
            "People with regular education and high salary: 17.3713601914639 %\n"
          ]
        }
      ]
    },
    {
      "cell_type": "code",
      "source": [
        "#minimum number of hours a person works per week \n",
        "minimum_hours = df['hours-per-week']\n",
        "\n",
        "print(minimum_hours.min())\n",
        "print(minimum_hours.idxmin())"
      ],
      "metadata": {
        "colab": {
          "base_uri": "https://localhost:8080/"
        },
        "id": "Fic9Ea1Ls8Hd",
        "outputId": "16696906-79c8-4175-a139-b110f12fee17"
      },
      "execution_count": 44,
      "outputs": [
        {
          "output_type": "stream",
          "name": "stdout",
          "text": [
            "1\n",
            "189\n"
          ]
        }
      ]
    },
    {
      "cell_type": "code",
      "source": [],
      "metadata": {
        "colab": {
          "base_uri": "https://localhost:8080/"
        },
        "id": "oQeyCeuQ5Cpn",
        "outputId": "ba5fd573-8508-42a7-f9b1-81de2d66b20b"
      },
      "execution_count": 79,
      "outputs": [
        {
          "output_type": "execute_result",
          "data": {
            "text/plain": [
              "1"
            ]
          },
          "metadata": {},
          "execution_count": 79
        }
      ]
    },
    {
      "cell_type": "code",
      "source": [
        "#percentage of the people who work the minimum number of hours per week have a salary of more than 50K\n",
        "\n",
        "\n",
        "minimum_hours_data = df[df['hours-per-week'] == minimum_hours.min()] \n",
        "print(len(minimum_hours_data))\n",
        "\n",
        "total = len(minimum_hours_data)\n",
        "high_salary3 = minimum_hours_data[minimum_hours_data['salary'] == '>50K']\n",
        "percentage = (len(high_salary3) / total) * 100\n",
        "print(percentage , \"%\")\n"
      ],
      "metadata": {
        "colab": {
          "base_uri": "https://localhost:8080/"
        },
        "id": "y6RdzDCAugTj",
        "outputId": "e0db4fcb-819f-4834-af3e-d1073f164a69"
      },
      "execution_count": 80,
      "outputs": [
        {
          "output_type": "stream",
          "name": "stdout",
          "text": [
            "20\n",
            "10.0 %\n"
          ]
        }
      ]
    },
    {
      "cell_type": "code",
      "source": [
        "country_percentages = df[df['salary'] == '>50K']['native-country'].value_counts(normalize=True) * 100\n",
        "print(country_percentages)\n"
      ],
      "metadata": {
        "colab": {
          "base_uri": "https://localhost:8080/"
        },
        "id": "7syo3TiEvilD",
        "outputId": "28643b01-f8e6-4df2-fc60-e6f88ee4b0a0"
      },
      "execution_count": 57,
      "outputs": [
        {
          "output_type": "stream",
          "name": "stdout",
          "text": [
            "United-States         91.455172\n",
            "?                      1.862007\n",
            "Philippines            0.777962\n",
            "Germany                0.561153\n",
            "India                  0.510139\n",
            "Canada                 0.497386\n",
            "Mexico                 0.420865\n",
            "England                0.382604\n",
            "Italy                  0.318837\n",
            "Cuba                   0.318837\n",
            "Japan                  0.306083\n",
            "Taiwan                 0.255070\n",
            "China                  0.255070\n",
            "Iran                   0.229563\n",
            "South                  0.204056\n",
            "Puerto-Rico            0.153042\n",
            "Poland                 0.153042\n",
            "France                 0.153042\n",
            "Jamaica                0.127535\n",
            "El-Salvador            0.114781\n",
            "Greece                 0.102028\n",
            "Cambodia               0.089274\n",
            "Hong                   0.076521\n",
            "Yugoslavia             0.076521\n",
            "Ireland                0.063767\n",
            "Vietnam                0.063767\n",
            "Portugal               0.051014\n",
            "Haiti                  0.051014\n",
            "Ecuador                0.051014\n",
            "Thailand               0.038260\n",
            "Hungary                0.038260\n",
            "Guatemala              0.038260\n",
            "Scotland               0.038260\n",
            "Nicaragua              0.025507\n",
            "Trinadad&Tobago        0.025507\n",
            "Laos                   0.025507\n",
            "Columbia               0.025507\n",
            "Dominican-Republic     0.025507\n",
            "Peru                   0.025507\n",
            "Honduras               0.012753\n",
            "Name: native-country, dtype: float64\n"
          ]
        }
      ]
    },
    {
      "cell_type": "code",
      "source": [
        "#the most popular occupation for those who earn >50K in India.\n",
        "\n",
        "\n",
        "india_high_earners = df[(df['native-country'] == 'India') & (df['salary'] == '>50K')]\n",
        "\n",
        "popular_occupation = india_high_earners['occupation'].value_counts()\n",
        "print(popular_occupation)\n",
        "print(\"Most Popular Occupation among indians : \" ,popular_occupation.idxmax())"
      ],
      "metadata": {
        "colab": {
          "base_uri": "https://localhost:8080/"
        },
        "id": "jB7TQsb_wRB0",
        "outputId": "bc1350bc-87a0-4300-b57c-549b6e89403e"
      },
      "execution_count": 74,
      "outputs": [
        {
          "output_type": "stream",
          "name": "stdout",
          "text": [
            "Prof-specialty      25\n",
            "Exec-managerial      8\n",
            "Other-service        2\n",
            "Tech-support         2\n",
            "Transport-moving     1\n",
            "Sales                1\n",
            "Adm-clerical         1\n",
            "Name: occupation, dtype: int64\n",
            "Most Popular Occupation Prof-specialty\n"
          ]
        }
      ]
    }
  ]
}